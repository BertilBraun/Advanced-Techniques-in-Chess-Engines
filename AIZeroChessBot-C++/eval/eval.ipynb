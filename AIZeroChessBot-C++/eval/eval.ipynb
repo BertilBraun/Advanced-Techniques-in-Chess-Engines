{
 "cells": [
  {
   "cell_type": "markdown",
   "metadata": {},
   "source": [
    "# Evaluation Notebook for the AIZero Chess Bot\n",
    "\n",
    "- Bot prediction from Fen string\n",
    "- Bot plays against itself\n",
    "- Bot vs Human\n",
    "- Bot vs Baseline Bot"
   ]
  },
  {
   "cell_type": "code",
   "execution_count": null,
   "metadata": {},
   "outputs": [],
   "source": [
    "%pip install torch chess numpy"
   ]
  },
  {
   "cell_type": "code",
   "execution_count": null,
   "metadata": {},
   "outputs": [],
   "source": [
    "import time\n",
    "\n",
    "from abc import ABC, abstractmethod\n",
    "from dataclasses import dataclass\n",
    "from typing import Literal, Optional\n",
    "from chess import Board, Move, WHITE, BLACK, Color\n",
    "\n",
    "\n",
    "TIME_TO_THINK = 0.5  # seconds\n",
    "\n",
    "\n",
    "class ChessBot(ABC):\n",
    "    def __init__(self, name: str) -> None:\n",
    "        \"\"\"Initializes the bot with a name.\"\"\"\n",
    "        self.name = name\n",
    "        self.start_time = 0.0\n",
    "\n",
    "    @abstractmethod\n",
    "    def think(self, board: Board) -> Move:\n",
    "        \"\"\"This method is called when it's the bot's turn to move. It should return the move that the bot wants to make.\"\"\"\n",
    "        raise NotImplementedError('Subclasses must implement this method')\n",
    "\n",
    "    @property\n",
    "    def time_elapsed(self) -> float:\n",
    "        \"\"\"Returns the time elapsed since the bot started thinking.\"\"\"\n",
    "        return time.time() - self.start_time\n",
    "\n",
    "    @property\n",
    "    def time_remaining(self) -> float:\n",
    "        \"\"\"\n",
    "        Determines the time remaining for the bot to think.\n",
    "\n",
    "        :return: The time remaining in seconds.\n",
    "        \"\"\"\n",
    "        return TIME_TO_THINK - self.time_elapsed\n",
    "\n",
    "    @property\n",
    "    def time_is_up(self) -> bool:\n",
    "        \"\"\"Determines if the bot has run out of time to think.\"\"\"\n",
    "        return self.time_remaining <= 0\n",
    "\n",
    "    def restart_clock(self) -> None:\n",
    "        \"\"\"Restarts the clock for the bot.\"\"\"\n",
    "        self.start_time = time.time()\n",
    "\n",
    "\n",
    "@dataclass\n",
    "class GameResult:\n",
    "    winner: Optional[Color]\n",
    "    result: Literal['1-0', '0-1', '1/2-1/2', 'unfinished']\n",
    "\n",
    "    @staticmethod\n",
    "    def from_board(board: Board) -> 'GameResult':\n",
    "        if board.is_checkmate():\n",
    "            result = '1-0' if board.turn == BLACK else '0-1'\n",
    "            return GameResult(board.turn, result)\n",
    "\n",
    "        if board.is_game_over():\n",
    "            return GameResult(None, '1/2-1/2')\n",
    "\n",
    "        return GameResult(None, 'unfinished')\n",
    "\n",
    "\n",
    "class GameManager:\n",
    "    def __init__(self, white: ChessBot, black: ChessBot) -> None:\n",
    "        \"\"\"Initializes the game manager with two players.\"\"\"\n",
    "        self.white = white\n",
    "        self.black = black\n",
    "\n",
    "    def play_game(self, verify_moves=True) -> GameResult:\n",
    "        \"\"\"Manages the gameplay loop until the game is over or a player quits.\"\"\"\n",
    "        board = Board()\n",
    "        \n",
    "        while not board.is_game_over():\n",
    "            current_player = self.white if board.turn == WHITE else self.black\n",
    "\n",
    "            current_player.restart_clock()\n",
    "            move = current_player.think(board)\n",
    "\n",
    "            if verify_moves and move not in board.legal_moves:\n",
    "                raise ValueError(f'Invalid move {move} for player {current_player.name}')\n",
    "\n",
    "            board.push(move)\n",
    "\n",
    "        return GameResult.from_board(board)"
   ]
  },
  {
   "cell_type": "code",
   "execution_count": null,
   "metadata": {},
   "outputs": [],
   "source": [
    "from chess import Board, Move\n",
    "import chess.svg\n",
    "from IPython.display import display, clear_output\n",
    "\n",
    "\n",
    "class HumanPlayer(ChessBot):\n",
    "    def __init__(self) -> None:\n",
    "        \"\"\"Initializes the human player.\"\"\"\n",
    "        super().__init__('Human')\n",
    "\n",
    "    def think(self, board: Board) -> Move:\n",
    "        \"\"\"Allows a human player to input a move using the GUI.\"\"\"\n",
    "        self.show(board)\n",
    "        \n",
    "        print('Legal moves:', [move.uci() for move in board.legal_moves])\n",
    "        while True:\n",
    "            move = input('Enter your move: ')\n",
    "            try:\n",
    "                move = Move.from_uci(move)\n",
    "                if move in board.legal_moves:\n",
    "                    board.push(move)\n",
    "                    self.show(board)\n",
    "                    board.pop()\n",
    "                    return move\n",
    "                print('Invalid move. Try again.')\n",
    "            except ValueError:\n",
    "                print('Invalid move. Try again.')\n",
    "        \n",
    "    def show(self, board: Board) -> None:\n",
    "        \"\"\"Displays the current board state.\"\"\"\n",
    "        boardsvg = chess.svg.board(board, size=350)\n",
    "        clear_output(wait=True)\n",
    "        display(boardsvg)"
   ]
  },
  {
   "cell_type": "code",
   "execution_count": null,
   "metadata": {},
   "outputs": [],
   "source": [
    "import chess.engine\n",
    "\n",
    "class AlphaZeroBot(ChessBot):\n",
    "    def __init__(self) -> None:\n",
    "        super().__init__('Alpha MCTS Bot')\n",
    "        time_to_think_ms = str(int(TIME_TO_THINK * 1000) + 5000) # Add 5 seconds to the time to think for startup time etc.\n",
    "        self.engine = chess.engine.SimpleEngine.popen_uci(f'./EvalAIZeroChessBot \"play\" {time_to_think_ms}')\n",
    "\n",
    "    def think(self, board: Board) -> Move:\n",
    "        result = self.engine.play(board, chess.engine.Limit(time=TIME_TO_THINK))\n",
    "        if result.move is None:\n",
    "            raise ValueError('The engine returned a None move')\n",
    "        return result.move\n",
    "    \n",
    "    def stop(self) -> None:\n",
    "        self.engine.quit()"
   ]
  },
  {
   "cell_type": "code",
   "execution_count": null,
   "metadata": {},
   "outputs": [],
   "source": [
    "import chess.engine\n",
    "\n",
    "class BaselineBot(ChessBot):\n",
    "    def __init__(self, engine_path: str, skill: int) -> None:\n",
    "        super().__init__(f'Baseline Bot ({engine_path})')\n",
    "        self.engine = chess.engine.SimpleEngine.popen_uci(engine_path)\n",
    "\n",
    "        # Set the skill level of the engine\n",
    "        # The skill level can be set from 0 to 20 (0 being the weakest and 20 the strongest)\n",
    "        self.engine.configure({'Skill Level': skill}) \n",
    "\n",
    "    def think(self, board: Board) -> Move:\n",
    "        result = self.engine.play(board, chess.engine.Limit(time=TIME_TO_THINK))\n",
    "        if result.move is None:\n",
    "            raise ValueError('The engine returned a None move')\n",
    "        return result.move\n",
    "    \n",
    "    def stop(self) -> None:\n",
    "        self.engine.quit()"
   ]
  },
  {
   "cell_type": "code",
   "execution_count": null,
   "metadata": {},
   "outputs": [],
   "source": [
    "import subprocess\n",
    "\n",
    "def runEvalChessBot(args: list[str]) -> list[str]:\n",
    "    out = subprocess.run(['./EvalAIZeroChessBot'] + args, stdout=subprocess.PIPE, stderr=subprocess.PIPE)\n",
    "    # Wait for the process to finish\n",
    "    out.check_returncode()    \n",
    "\n",
    "    return [line.strip() for line in out.stdout.decode().split('\\n') if line.strip()]"
   ]
  },
  {
   "cell_type": "markdown",
   "metadata": {},
   "source": [
    "## Bot prediction from Fen string"
   ]
  },
  {
   "cell_type": "code",
   "execution_count": null,
   "metadata": {},
   "outputs": [],
   "source": [
    "import chess.engine\n",
    "\n",
    "def evaluate(fen: str) -> tuple[list[tuple[Move, float]], float]:\n",
    "    lines = runEvalChessBot(['eval', fen])\n",
    "    \n",
    "    # The output is of the format:\n",
    "    # \"Position evaluation: \" + value + \"\\n\";\n",
    "    # \"Moves:\" + \"\\n\";\n",
    "    # for (auto [move, probability] : moves) {\n",
    "    #     move.uci() + \" \" + probability + \"\\n\";\n",
    "    # }\n",
    "    \n",
    "    while not lines[0].startswith('Position evaluation:'):\n",
    "        lines.pop(0)\n",
    "    \n",
    "    value = float(lines[0].replace('Position evaluation: ', ''))\n",
    "    moves = [(Move.from_uci(line.split(' ')[0]), float(line.split(' ')[1])) for line in lines[2:] if line]\n",
    "    \n",
    "    moves.sort(key=lambda x: x[1], reverse=True)\n",
    "    \n",
    "    return moves, value\n",
    "\n",
    "\n",
    "stockfish = chess.engine.SimpleEngine.popen_uci('models/stockfish_8_x64')\n",
    "\n",
    "mid_game_fens = [\n",
    "    \"r1bqkb1r/pp2pppp/2n2n2/2pp4/3PP3/2N2N2/PPP2PPP/R1BQKB1R w KQkq - 0 1\",\n",
    "    \"r1bq1rk1/ppp1bppp/2np1n2/3Np3/1PP1P3/2N5/PB3PPP/R2QKB1R b KQ - 0 1\",\n",
    "    \"r1bq1rk1/pppn1pbp/3p1np1/4p3/2PP4/2N2N2/PP2BPPP/R1BQ1RK1 w - - 0 1\",\n",
    "    \"r2q1rk1/ppp1bppp/2np1n2/1B2p3/1bP1P3/2N2N2/PP1QBPPP/R4RK1 w - - 0 1\",\n",
    "    \"2kr3r/ppp2ppp/2npb3/q7/3NP3/2N5/PPP1QPPP/R1B1K2R b KQ - 0 1\",\n",
    "    \"r1bq1rk1/1pp1npbp/p2p1np1/3Pp3/2P1P3/2N1BN2/PP2BPPP/R2Q1RK1 w - - 0 1\",\n",
    "    \"r2q1rk1/1bpp1ppp/p1n2n2/1p1pp3/3P1B2/2PBPN2/PP3PPP/R2QK2R w KQ - 0 1\",\n",
    "    \"r2q1rk1/ppp2ppp/2nbpn2/3p4/3P1B2/2NBPN2/PPP2PPP/R2QK2R b KQ - 0 1\",\n",
    "    \"rnbq1rk1/pp3pbp/3p1np1/2pPp3/2P1P3/2N2N2/PP3PPP/R1BQRBK1 b - - 0 1\",\n",
    "    \"r1bq1rk1/pp2ppbp/2np1np1/8/2PNP3/2N5/PP3PPP/R1BQKB1R w KQ - 0 1\"\n",
    "]\n",
    "\n",
    "for fen in mid_game_fens:\n",
    "    moves_with_probabilities, value = evaluate(fen)\n",
    "    board = Board(fen)\n",
    "    stockfish_result = stockfish.analyse(board, chess.engine.Limit(time=0.1))\n",
    "\n",
    "    print(f'FEN: {fen}')\n",
    "    print(f'Value: {value:.4f}')\n",
    "    print(f'Stockfish evaluation: {stockfish_result[\"score\"]}')\n",
    "    print(f'Moves with probabilities: {len(moves_with_probabilities)}')\n",
    "    \n",
    "    for move, probability in moves_with_probabilities:\n",
    "        board.push(move)\n",
    "        stockfish_result = stockfish.analyse(board, chess.engine.Limit(time=0.1))\n",
    "        score = stockfish_result[\"score\"].relative\n",
    "        board.pop()\n",
    "        \n",
    "        print(f'{move}: NN: {probability:.4f} Stockfish: {score}')\n",
    "        "
   ]
  },
  {
   "cell_type": "markdown",
   "metadata": {},
   "source": [
    "## Bot plays against itself"
   ]
  },
  {
   "cell_type": "code",
   "execution_count": null,
   "metadata": {},
   "outputs": [],
   "source": [
    "bot1 = AlphaZeroBot()\n",
    "bot2 = AlphaZeroBot()\n",
    "\n",
    "game_manager = GameManager(bot1, bot2)\n",
    "game_manager.play_game()"
   ]
  },
  {
   "cell_type": "markdown",
   "metadata": {},
   "source": [
    "## Bot vs Human"
   ]
  },
  {
   "cell_type": "code",
   "execution_count": null,
   "metadata": {},
   "outputs": [],
   "source": [
    "bot = AlphaZeroBot()\n",
    "human = HumanPlayer()\n",
    "\n",
    "game_manager = GameManager(bot, human)\n",
    "game_manager.play_game()"
   ]
  },
  {
   "cell_type": "markdown",
   "metadata": {},
   "source": [
    "## Bot vs Baseline Bot"
   ]
  },
  {
   "cell_type": "code",
   "execution_count": null,
   "metadata": {},
   "outputs": [],
   "source": [
    "bot = AlphaZeroBot()\n",
    "baseline = BaselineBot('models/stockfish', skill=1)\n",
    "\n",
    "game_manager = GameManager(bot, baseline)\n",
    "result = game_manager.play_game()\n",
    "\n",
    "baseline.stop()\n",
    "\n",
    "print(result)"
   ]
  },
  {
   "cell_type": "markdown",
   "metadata": {},
   "source": [
    "## Bot vs Baseline for all last checkpoints"
   ]
  },
  {
   "cell_type": "code",
   "execution_count": null,
   "metadata": {},
   "outputs": [],
   "source": [
    "# import os\n",
    "# \n",
    "# current_best_model_path = '...'\n",
    "# best_model_iteration = int(current_best_model_path.split('_')[-1].replace('.pt', ''))\n",
    "# \n",
    "# for i in range(1, best_model_iteration + 1):\n",
    "#     model_path = f'models/model_{i}.pt'\n",
    "#     if not os.path.exists(model_path):\n",
    "#         continue\n",
    "#     \n",
    "#     bot_vs_baseline(model_path, repetitions=10, skill=1)"
   ]
  },
  {
   "cell_type": "markdown",
   "metadata": {},
   "source": [
    "## Training Sample analyzer\n",
    "\n",
    "Fetch one of the training sample batches and print out board positions and moves with predictions and targets."
   ]
  },
  {
   "cell_type": "code",
   "execution_count": null,
   "metadata": {},
   "outputs": [],
   "source": [
    "SAMPLE = \"random\" # or \"312313812937128937912\" some id in the MEMORY_DIR\n",
    "\n",
    "lines = runEvalChessBot(['analyzeSample', SAMPLE])\n",
    "\n",
    "print(lines)"
   ]
  }
 ],
 "metadata": {
  "kernelspec": {
   "display_name": "Python 3",
   "language": "python",
   "name": "python3"
  },
  "language_info": {
   "name": "python",
   "version": "3.11.8"
  }
 },
 "nbformat": 4,
 "nbformat_minor": 2
}
